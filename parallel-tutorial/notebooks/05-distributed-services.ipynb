{
 "cells": [
  {
   "cell_type": "markdown",
   "metadata": {},
   "source": [
    "Distributed Services\n",
    "====================\n",
    "\n",
    "**NOTE:** This notebook and those that follow are to be run on the [pycon-parallel.jovyan.org](https://pycon-parallel.jovyan.org) cluster.\n",
    "\n",
    "The cluster contains the following distributed frameworks:\n",
    "\n",
    "*  **Spark**, running at `spark://schedulers:7077`\n",
    "*  **Dask**, running at `schedulers:9000`\n",
    "\n",
    "Each of these systems has a central controller/scheduler/master that manages worker processes on other computers on your cluster.  \n",
    "\n",
    "This notebook contains setup information for connecting to each of these services.\n",
    "\n",
    "Dask and spark also provide web interfaces with a variety of feedback\n",
    "\n",
    "-  [Dask dashboard](../../../9002/status) \n",
    "-  [Spark UI](../../../9070)"
   ]
  },
  {
   "cell_type": "markdown",
   "metadata": {},
   "source": [
    "### Spark"
   ]
  },
  {
   "cell_type": "code",
   "execution_count": null,
   "metadata": {
    "collapsed": true
   },
   "outputs": [],
   "source": [
    "from pyspark.sql import SparkSession\n",
    "spark = SparkSession.builder.master('spark://schedulers:7077').getOrCreate()\n",
    "spark"
   ]
  },
  {
   "cell_type": "markdown",
   "metadata": {},
   "source": [
    "### Dask"
   ]
  },
  {
   "cell_type": "code",
   "execution_count": null,
   "metadata": {
    "collapsed": true
   },
   "outputs": [],
   "source": [
    "from dask.distributed import Client\n",
    "client = Client('schedulers:9000')\n",
    "client"
   ]
  }
 ],
 "metadata": {
  "kernelspec": {
   "display_name": "Python 3",
   "language": "python",
   "name": "python3"
  },
  "language_info": {
   "codemirror_mode": {
    "name": "ipython",
    "version": 3
   },
   "file_extension": ".py",
   "mimetype": "text/x-python",
   "name": "python",
   "nbconvert_exporter": "python",
   "pygments_lexer": "ipython3",
   "version": "3.6.0"
  }
 },
 "nbformat": 4,
 "nbformat_minor": 2
}
