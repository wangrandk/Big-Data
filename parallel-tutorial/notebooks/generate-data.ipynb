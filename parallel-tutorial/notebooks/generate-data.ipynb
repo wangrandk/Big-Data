{
 "cells": [
  {
   "cell_type": "markdown",
   "metadata": {},
   "source": [
    "# Data generation\n",
    "\n",
    "We are going to download GitHub activity from the [GitHub archive](https://www.githubarchive.org).\n",
    "\n",
    "Each hour of each day gets a file, in which each line is a JSON-serialized record of an event on GitHub - comments, pull requests, commits, etc.\n",
    "\n",
    "We define a `fetch_one` function to fetch a single file into our `../data` directory,\n",
    "and parallelize many calls to `fetch_one` with\n",
    "our `fetch_range` function via `ThreadPoolExecuter.map`."
   ]
  },
  {
   "cell_type": "code",
   "execution_count": null,
   "metadata": {
    "collapsed": false
   },
   "outputs": [],
   "source": [
    "from datetime import datetime, timedelta\n",
    "from glob import glob\n",
    "import gzip\n",
    "import os\n",
    "import shutil\n",
    "\n",
    "import requests\n",
    "\n",
    "data = os.path.join('..', 'data')\n",
    "if not os.path.exists(data):\n",
    "    os.mkdir(data)\n",
    "\n",
    "\n",
    "url_t = 'http://data.githubarchive.org/{year:04}-{month:02}-{day:02}-{hour}.json.gz'\n",
    "fn_t =  os.path.join(data, 'data-{year:04}-{month:02}-{day:02}-{hour}.json')\n",
    "\n",
    "\n",
    "# Pick 11 July 2015, last year's SciPy sprints\n",
    "day1 = datetime(year=2015, month=7, day=11)\n",
    "\n",
    "def fetch_one(timestamp=day1):\n",
    "    \"\"\"Fetch a single hour of github data.\n",
    "    \n",
    "    Returns filename downloaded.\n",
    "    \n",
    "    No-op if already downloaded.\n",
    "    \"\"\"\n",
    "    # build URL and filename from date\n",
    "    ns = dict(\n",
    "        year = timestamp.year,\n",
    "        month = timestamp.month,\n",
    "        day = timestamp.day,\n",
    "        hour = timestamp.hour,\n",
    "    )\n",
    "    url = url_t.format(**ns)\n",
    "    fn = fn_t.format(**ns)\n",
    "    \n",
    "    if os.path.exists(fn):\n",
    "        # already downloaded\n",
    "        return fn\n",
    "    \n",
    "    # download the gzip-compressed json data\n",
    "    resp = requests.get(url, stream=True)\n",
    "    resp.raise_for_status()\n",
    "    with gzip.open(resp.raw, mode='rb') as r:\n",
    "        with open(fn, 'wb') as w:\n",
    "            shutil.copyfileobj(r, w)\n",
    "    return fn\n",
    "    \n",
    "def fetch_range(ex, start=day1, hours=24):\n",
    "    \"\"\"Fetch a range, starting from a date and grabbing every hourly dataset.\n",
    "    \n",
    "    parallelized via an Executor.\n",
    "    \n",
    "    ex: Executor\n",
    "    start: datetime\n",
    "    hours: integer\n",
    "    \"\"\"\n",
    "    return ex.map(fetch_one, \n",
    "                 (start + timedelta(hours=i) for i in range(hours))\n",
    "    )\n"
   ]
  },
  {
   "cell_type": "code",
   "execution_count": null,
   "metadata": {
    "collapsed": true
   },
   "outputs": [],
   "source": [
    "from concurrent.futures import ThreadPoolExecutor\n",
    "ex = ThreadPoolExecutor()"
   ]
  },
  {
   "cell_type": "code",
   "execution_count": null,
   "metadata": {
    "collapsed": false
   },
   "outputs": [],
   "source": [
    "%%time\n",
    "\n",
    "total = 0\n",
    "\n",
    "for fn in fetch_range(ex):\n",
    "    MB = os.stat(fn).st_size / 2**20\n",
    "    print(\"%6.1f MB %s\" % (MB, fn))\n",
    "    total += MB\n",
    "print(\"%6.1f MB total\" % total)\n",
    "\n",
    "filenames = glob(os.path.join(data, '*.json'))"
   ]
  },
  {
   "cell_type": "code",
   "execution_count": null,
   "metadata": {
    "collapsed": false
   },
   "outputs": [],
   "source": [
    "import json\n",
    "import pprint\n",
    "with open(filenames[0]) as f:\n",
    "    for i in range(10):\n",
    "        event = json.loads(f.readline())\n",
    "        event['payload'] = 'redacted' # payload is big\n",
    "        pprint.pprint(event)"
   ]
  }
 ],
 "metadata": {
  "kernelspec": {
   "display_name": "Python 3",
   "language": "python",
   "name": "python3"
  },
  "language_info": {
   "codemirror_mode": {
    "name": "ipython",
    "version": 3
   },
   "file_extension": ".py",
   "mimetype": "text/x-python",
   "name": "python",
   "nbconvert_exporter": "python",
   "pygments_lexer": "ipython3",
   "version": "3.5.1"
  }
 },
 "nbformat": 4,
 "nbformat_minor": 1
}
