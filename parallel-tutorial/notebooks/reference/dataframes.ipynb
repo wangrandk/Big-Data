{
 "cells": [
  {
   "cell_type": "markdown",
   "metadata": {},
   "source": [
    "## Parallel Dataframes\n",
    "\n",
    "When applications align with \"big data\" collections,\n",
    "parallel computing looks a lot like normal computing.\n",
    "\n",
    "### Objectives\n",
    "\n",
    "*  Observe that parallel collections are useful when the problem fits them well\n",
    "\n",
    "### Requirements\n",
    "\n",
    "*  Dask.dataframe"
   ]
  },
  {
   "cell_type": "code",
   "execution_count": null,
   "metadata": {
    "collapsed": false
   },
   "outputs": [],
   "source": [
    "import dask.dataframe as dd\n",
    "df = dd.read_csv('../data/minute/aig/2012-*.csv', parse_dates=['timestamp'])\n",
    "df"
   ]
  },
  {
   "cell_type": "markdown",
   "metadata": {},
   "source": [
    "We can inspect the data frame with standard methods, such as head, which compute immediately:"
   ]
  },
  {
   "cell_type": "code",
   "execution_count": null,
   "metadata": {
    "collapsed": false
   },
   "outputs": [],
   "source": [
    "df.head()"
   ]
  },
  {
   "cell_type": "markdown",
   "metadata": {},
   "source": [
    "Other operations do not evaluate until `.compute()` is called:"
   ]
  },
  {
   "cell_type": "code",
   "execution_count": null,
   "metadata": {
    "collapsed": false
   },
   "outputs": [],
   "source": [
    "df.describe().compute()"
   ]
  },
  {
   "cell_type": "code",
   "execution_count": null,
   "metadata": {
    "collapsed": true
   },
   "outputs": [],
   "source": [
    "%matplotlib inline"
   ]
  },
  {
   "cell_type": "markdown",
   "metadata": {},
   "source": [
    "We can chain these operations with properties and methods that give new DataFrames or Series:"
   ]
  },
  {
   "cell_type": "code",
   "execution_count": null,
   "metadata": {
    "collapsed": false
   },
   "outputs": [],
   "source": [
    "(df.groupby(df.timestamp.dt.date)\n",
    "   .close\n",
    "   .mean()\n",
    "   .compute()\n",
    "   .plot(figsize=(16, 4))\n",
    ")"
   ]
  },
  {
   "cell_type": "markdown",
   "metadata": {},
   "source": [
    "How Big Data Collections Differ\n",
    "-------------------------------\n",
    "\n",
    "Collections like Dask.dataframe, Dask.array, or Spark.dataframe often copy elements from previously established sequential libraries like Pandas, NumPy, or from SQL databases.  However they are rarely comprehensive and often lack desired features from the sequential libraries.  This is natural, parallel computing is harder than sequential programming; operations like `sort` and individual data insertion are hard to do in parallel or massively distributed contexts."
   ]
  },
  {
   "cell_type": "markdown",
   "metadata": {},
   "source": [
    "### Exercises\n",
    "\n",
    "Use previous Pandas knowledge (or ask a neighbor) to compute the following:\n",
    "\n",
    "1.  What was the maximum value of the stock `aig` in 2012?\n",
    "2.  On what date did this occur?\n",
    "3.  On what day did `aig` reach its maximum value over all of the data?\n",
    "4.  Set the index of the `aig` 2012 dataset to the timestamp.  Inspect the head and tail to ensure that this worked.  Use `loc` to pull out time slices.\n",
    "5.  Having a datetime index enables more datetime functionality.  Resample the dataset by hour, then try resampling it by week.  Did something wrong happen? what?"
   ]
  },
  {
   "cell_type": "code",
   "execution_count": null,
   "metadata": {
    "collapsed": true
   },
   "outputs": [],
   "source": [
    "# your code here"
   ]
  },
  {
   "cell_type": "code",
   "execution_count": null,
   "metadata": {
    "collapsed": false
   },
   "outputs": [],
   "source": [
    "%load solutions/dataframes-1.py"
   ]
  }
 ],
 "metadata": {
  "kernelspec": {
   "display_name": "Python 3",
   "language": "python",
   "name": "python3"
  },
  "language_info": {
   "codemirror_mode": {
    "name": "ipython",
    "version": 3
   },
   "file_extension": ".py",
   "mimetype": "text/x-python",
   "name": "python",
   "nbconvert_exporter": "python",
   "pygments_lexer": "ipython3",
   "version": "3.6.0"
  }
 },
 "nbformat": 4,
 "nbformat_minor": 1
}
