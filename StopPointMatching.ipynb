{
 "cells": [
  {
   "cell_type": "code",
   "execution_count": 8,
   "metadata": {},
   "outputs": [],
   "source": [
    "import pymssql\n",
    "import pandas as pd\n",
    "import geopandas\n",
    "import numpy as np\n",
    "from shapely.geometry import Point\n",
    "conn = pymssql.connect(server=\"DWH03\", user=\"TRAFIK\\RWA\",password=\"Ma041955\",database=\"DW_DSA\", port=1433) "
   ]
  },
  {
   "cell_type": "code",
   "execution_count": 51,
   "metadata": {},
   "outputs": [],
   "source": [
    "stmt =\"\"\"\n",
    "SELECT \n",
    "[ReceivedDateTime]\n",
    "      ,[Latitude]\n",
    "      ,[Longitude]\n",
    "      ,[VehicleId]\n",
    "  FROM [DW_DSA].[integration].[RPS_PositionMessage_Short]\n",
    "where ReceivedDateTime between '2018-10-01' and '2018-10-02'  \n",
    "\"\"\"  "
   ]
  },
  {
   "cell_type": "code",
   "execution_count": 2,
   "metadata": {},
   "outputs": [
    {
     "ename": "NameError",
     "evalue": "name 'stmt' is not defined",
     "output_type": "error",
     "traceback": [
      "\u001b[1;31m----------------------------------------------------------------\u001b[0m",
      "\u001b[1;31mNameError\u001b[0m                      Traceback (most recent call last)",
      "\u001b[1;32m<ipython-input-2-a5e5b2c1602c>\u001b[0m in \u001b[0;36m<module>\u001b[1;34m()\u001b[0m\n\u001b[1;32m----> 1\u001b[1;33m \u001b[0mdf\u001b[0m \u001b[1;33m=\u001b[0m \u001b[0mpd\u001b[0m\u001b[1;33m.\u001b[0m\u001b[0mread_sql\u001b[0m\u001b[1;33m(\u001b[0m\u001b[0mstmt\u001b[0m\u001b[1;33m,\u001b[0m\u001b[0mconn\u001b[0m\u001b[1;33m)\u001b[0m\u001b[1;33m\u001b[0m\u001b[0m\n\u001b[0m",
      "\u001b[1;31mNameError\u001b[0m: name 'stmt' is not defined"
     ]
    }
   ],
   "source": [
    "df = pd.read_sql(stmt,conn)\n"
   ]
  },
  {
   "cell_type": "code",
   "execution_count": 11,
   "metadata": {},
   "outputs": [
    {
     "ename": "NameError",
     "evalue": "name 'df' is not defined",
     "output_type": "error",
     "traceback": [
      "\u001b[1;31m----------------------------------------------------------------\u001b[0m",
      "\u001b[1;31mNameError\u001b[0m                      Traceback (most recent call last)",
      "\u001b[1;32m<ipython-input-11-c42a15b2c7cf>\u001b[0m in \u001b[0;36m<module>\u001b[1;34m()\u001b[0m\n\u001b[1;32m----> 1\u001b[1;33m \u001b[0mdf\u001b[0m\u001b[1;33m.\u001b[0m\u001b[0mhead\u001b[0m\u001b[1;33m(\u001b[0m\u001b[1;33m)\u001b[0m\u001b[1;33m\u001b[0m\u001b[0m\n\u001b[0m",
      "\u001b[1;31mNameError\u001b[0m: name 'df' is not defined"
     ]
    }
   ],
   "source": [
    "df.head()"
   ]
  },
  {
   "cell_type": "code",
   "execution_count": 41,
   "metadata": {},
   "outputs": [],
   "source": [
    "stmt01 =\"\"\"\n",
    "select\n",
    "   \n",
    "    [ReceivedDateTime]\n",
    "   ,[Latitude]\n",
    "   ,[Longitude]\n",
    "   ,[VehicleId]\n",
    "from\n",
    "    [DW_EDW].[data].[RPS_PositionMessage]\n",
    "where\n",
    "    Speed <= 0.01\n",
    "    and\n",
    "        (\n",
    "            ReceivedDateTime <= '2018-11-03'\n",
    "            and ReceivedDateTime >= '2018-11-02'\n",
    "        )\n",
    "    and Latitude is not null\n",
    "\"\"\"  "
   ]
  },
  {
   "cell_type": "code",
   "execution_count": 42,
   "metadata": {},
   "outputs": [],
   "source": [
    "df01 = pd.read_sql(stmt01,conn)"
   ]
  },
  {
   "cell_type": "code",
   "execution_count": 19,
   "metadata": {},
   "outputs": [
    {
     "data": {
      "text/html": [
       "<div>\n",
       "<style scoped>\n",
       "    .dataframe tbody tr th:only-of-type {\n",
       "        vertical-align: middle;\n",
       "    }\n",
       "\n",
       "    .dataframe tbody tr th {\n",
       "        vertical-align: top;\n",
       "    }\n",
       "\n",
       "    .dataframe thead th {\n",
       "        text-align: right;\n",
       "    }\n",
       "</style>\n",
       "<table border=\"1\" class=\"dataframe\">\n",
       "  <thead>\n",
       "    <tr style=\"text-align: right;\">\n",
       "      <th></th>\n",
       "      <th>ReceivedDateTime</th>\n",
       "      <th>Latitude</th>\n",
       "      <th>Longitude</th>\n",
       "      <th>VehicleId</th>\n",
       "    </tr>\n",
       "  </thead>\n",
       "  <tbody>\n",
       "    <tr>\n",
       "      <th>0</th>\n",
       "      <td>2018-11-02 00:00:00.000</td>\n",
       "      <td>55.868717</td>\n",
       "      <td>12.492103</td>\n",
       "      <td>0000</td>\n",
       "    </tr>\n",
       "    <tr>\n",
       "      <th>1</th>\n",
       "      <td>2018-11-02 00:00:00.000</td>\n",
       "      <td>55.844456</td>\n",
       "      <td>12.156114</td>\n",
       "      <td>1000</td>\n",
       "    </tr>\n",
       "    <tr>\n",
       "      <th>2</th>\n",
       "      <td>2018-11-02 00:00:00.000</td>\n",
       "      <td>55.737232</td>\n",
       "      <td>12.478281</td>\n",
       "      <td>1042</td>\n",
       "    </tr>\n",
       "    <tr>\n",
       "      <th>3</th>\n",
       "      <td>2018-11-02 00:00:00.000</td>\n",
       "      <td>55.639156</td>\n",
       "      <td>12.117576</td>\n",
       "      <td>1043</td>\n",
       "    </tr>\n",
       "    <tr>\n",
       "      <th>4</th>\n",
       "      <td>2018-11-02 00:00:00.000</td>\n",
       "      <td>55.716896</td>\n",
       "      <td>12.564925</td>\n",
       "      <td>1054</td>\n",
       "    </tr>\n",
       "  </tbody>\n",
       "</table>\n",
       "</div>"
      ],
      "text/plain": [
       "          ReceivedDateTime   Latitude  Longitude VehicleId\n",
       "0  2018-11-02 00:00:00.000  55.868717  12.492103      0000\n",
       "1  2018-11-02 00:00:00.000  55.844456  12.156114      1000\n",
       "2  2018-11-02 00:00:00.000  55.737232  12.478281      1042\n",
       "3  2018-11-02 00:00:00.000  55.639156  12.117576      1043\n",
       "4  2018-11-02 00:00:00.000  55.716896  12.564925      1054"
      ]
     },
     "execution_count": 19,
     "metadata": {},
     "output_type": "execute_result"
    }
   ],
   "source": [
    "df01.head()"
   ]
  },
  {
   "cell_type": "code",
   "execution_count": 57,
   "metadata": {},
   "outputs": [
    {
     "name": "stdout",
     "output_type": "stream",
     "text": [
      "The data shape:   23128540\n"
     ]
    }
   ],
   "source": [
    "print (\"The data shape: {0:10d}\".format(df01.shape[0]) )"
   ]
  },
  {
   "cell_type": "code",
   "execution_count": 53,
   "metadata": {},
   "outputs": [
    {
     "data": {
      "text/plain": [
       "Index(['Latitude', 'Longitude'], dtype='object')"
      ]
     },
     "execution_count": 53,
     "metadata": {},
     "output_type": "execute_result"
    }
   ],
   "source": [
    "df01.columns[1:3]"
   ]
  },
  {
   "cell_type": "code",
   "execution_count": 60,
   "metadata": {},
   "outputs": [
    {
     "name": "stderr",
     "output_type": "stream",
     "text": [
      "C:\\Users\\rwa\\AppData\\Local\\Continuum\\anaconda3\\lib\\site-packages\\ipykernel_launcher.py:1: FutureWarning: Method .as_matrix will be removed in a future version. Use .values instead.\n",
      "  \"\"\"Entry point for launching an IPython kernel.\n"
     ]
    },
    {
     "data": {
      "text/plain": [
       "array([[ 55.86871719,  12.49210262],\n",
       "       [ 55.84445572,  12.15611362],\n",
       "       [ 55.73723221,  12.47828102],\n",
       "       ..., \n",
       "       [ 55.86862946,  12.49213028],\n",
       "       [ 56.44820404,   9.36180305],\n",
       "       [ 55.86870956,  12.492136  ]])"
      ]
     },
     "execution_count": 60,
     "metadata": {},
     "output_type": "execute_result"
    }
   ],
   "source": [
    "df01.as_matrix(columns=df01.columns[1:3])"
   ]
  },
  {
   "cell_type": "code",
   "execution_count": 72,
   "metadata": {},
   "outputs": [],
   "source": [
    "df_2W = df01.head(20000)"
   ]
  },
  {
   "cell_type": "code",
   "execution_count": 73,
   "metadata": {},
   "outputs": [
    {
     "data": {
      "text/plain": [
       "(20000, 4)"
      ]
     },
     "execution_count": 73,
     "metadata": {},
     "output_type": "execute_result"
    }
   ],
   "source": [
    "df_2W.shape"
   ]
  },
  {
   "cell_type": "markdown",
   "metadata": {},
   "source": [
    "### convert datafram 'Latitude', 'Longitude' to 2 dimension array"
   ]
  },
  {
   "cell_type": "code",
   "execution_count": 74,
   "metadata": {},
   "outputs": [
    {
     "name": "stderr",
     "output_type": "stream",
     "text": [
      "C:\\Users\\rwa\\AppData\\Local\\Continuum\\anaconda3\\lib\\site-packages\\ipykernel_launcher.py:1: FutureWarning: Method .as_matrix will be removed in a future version. Use .values instead.\n",
      "  \"\"\"Entry point for launching an IPython kernel.\n"
     ]
    }
   ],
   "source": [
    "X = df_2W.as_matrix(columns=df_2W.columns[1:3])"
   ]
  },
  {
   "cell_type": "code",
   "execution_count": 75,
   "metadata": {},
   "outputs": [
    {
     "data": {
      "text/plain": [
       "array([[ 55.86871719,  12.49210262],\n",
       "       [ 55.84445572,  12.15611362],\n",
       "       [ 55.73723221,  12.47828102],\n",
       "       ..., \n",
       "       [ 55.68080902,  12.37927151],\n",
       "       [ 55.68079758,  12.37905884],\n",
       "       [ 55.68078995,  12.37894154]])"
      ]
     },
     "execution_count": 75,
     "metadata": {},
     "output_type": "execute_result"
    }
   ],
   "source": [
    "X"
   ]
  },
  {
   "cell_type": "code",
   "execution_count": 12,
   "metadata": {},
   "outputs": [],
   "source": [
    "df['Coordinates'] = list(zip(df.Longitude, df.Latitude))"
   ]
  },
  {
   "cell_type": "code",
   "execution_count": 13,
   "metadata": {},
   "outputs": [],
   "source": [
    "df['Coordinates'] = df['Coordinates'].apply(Point)"
   ]
  },
  {
   "cell_type": "code",
   "execution_count": 14,
   "metadata": {},
   "outputs": [],
   "source": [
    "gdf = geopandas.GeoDataFrame(df, geometry='Coordinates')"
   ]
  },
  {
   "cell_type": "code",
   "execution_count": 15,
   "metadata": {},
   "outputs": [
    {
     "name": "stdout",
     "output_type": "stream",
     "text": [
      "          ReceivedDateTime   Latitude  Longitude  Speed VehicleId  \\\n",
      "0  2018-10-01 00:50:39.000  55.614025  12.494857   0.00      8430   \n",
      "1  2018-10-01 00:50:39.000  55.694206  12.609467   0.00      8801   \n",
      "2  2018-10-01 00:50:39.000  55.694275  12.609015   0.01      8803   \n",
      "3  2018-10-01 00:50:39.000  55.694416  12.608177   0.00      8804   \n",
      "4  2018-10-01 00:50:39.000  55.868595  12.492098   0.00      9921   \n",
      "\n",
      "                                   Coordinates  \n",
      "0   POINT (12.49485683441162 55.6140251159668)  \n",
      "1  POINT (12.60946655273438 55.69420623779297)  \n",
      "2   POINT (12.6090145111084 55.69427490234375)  \n",
      "3  POINT (12.60817718505859 55.69441604614258)  \n",
      "4  POINT (12.49209785461426 55.86859512329102)  \n"
     ]
    }
   ],
   "source": [
    "print(gdf.head())"
   ]
  },
  {
   "cell_type": "code",
   "execution_count": 24,
   "metadata": {},
   "outputs": [],
   "source": [
    "df01['geometry'] = list(zip(df01.Longitude, df01.Latitude))"
   ]
  },
  {
   "cell_type": "code",
   "execution_count": 27,
   "metadata": {},
   "outputs": [
    {
     "data": {
      "text/plain": [
       "0       (12.49210262298584, 55.868717193603516)\n",
       "1       (12.156113624572754, 55.84445571899414)\n",
       "2       (12.478281021118164, 55.73723220825195)\n",
       "3      (12.117575645446777, 55.639156341552734)\n",
       "4      (12.564925193786621, 55.716896057128906)\n",
       "5      (12.117655754089355, 55.639198303222656)\n",
       "6       (12.478261947631836, 55.73740768432617)\n",
       "7      (12.478229522705078, 55.737422943115234)\n",
       "8        (12.53148365020752, 55.72016906738281)\n",
       "9       (12.477714538574219, 55.73723220825195)\n",
       "10     (12.585838317871094, 55.679195404052734)\n",
       "11     (12.567923545837402, 55.731048583984375)\n",
       "12       (12.42656135559082, 55.69541549682617)\n",
       "13        (12.1175537109375, 55.63893508911133)\n",
       "14       (11.339493751525879, 55.4161491394043)\n",
       "15       (12.564448356628418, 55.7168083190918)\n",
       "16      (12.564844131469727, 55.71643829345703)\n",
       "17      (12.565264701843262, 55.71639633178711)\n",
       "18       (12.47817325592041, 55.73749923706055)\n",
       "19     (12.427793502807617, 55.695274353027344)\n",
       "20      (12.117935180664062, 55.63874816894531)\n",
       "21      (12.613739013671875, 55.64631652832031)\n",
       "22      (12.478385925292969, 55.73712158203125)\n",
       "23      (12.559025764465332, 55.68857955932617)\n",
       "24     (12.566248893737793, 55.672813415527344)\n",
       "25      (12.669353485107422, 55.59540557861328)\n",
       "26       (12.47767162322998, 55.73731994628906)\n",
       "27      (11.747034072875977, 55.43478012084961)\n",
       "28     (12.118145942687988, 55.638729095458984)\n",
       "29     (12.118973731994629, 55.638519287109375)\n",
       "                         ...                   \n",
       "970       (12.390340805053711, 55.685791015625)\n",
       "971     (12.25948715209961, 55.947391510009766)\n",
       "972      (12.25957202911377, 55.94783401489258)\n",
       "973     (12.078394889831543, 55.84523391723633)\n",
       "974     (12.07911491394043, 55.844642639160156)\n",
       "975    (12.020037651062012, 55.966331481933594)\n",
       "976     (12.260136604309082, 55.94744110107422)\n",
       "977     (12.259886741638184, 55.94758987426758)\n",
       "978    (12.259587287902832, 55.947635650634766)\n",
       "979      (12.391000747680664, 55.6855583190918)\n",
       "980     (12.381901741027832, 55.68293762207031)\n",
       "981     (12.381180763244629, 55.68267822265625)\n",
       "982    (12.612042427062988, 55.689884185791016)\n",
       "983    (12.381199836730957, 55.682716369628906)\n",
       "984    (12.381173133850098, 55.682865142822266)\n",
       "985     (12.381148338317871, 55.68304443359375)\n",
       "986    (12.381178855895996, 55.683074951171875)\n",
       "987    (12.381394386291504, 55.683082580566406)\n",
       "988    (12.381394386291504, 55.683082580566406)\n",
       "989    (12.524115562438965, 55.646087646484375)\n",
       "990    (12.382094383239746, 55.683223724365234)\n",
       "991      (12.38220500946045, 55.68318557739258)\n",
       "992     (12.590754508972168, 55.70491409301758)\n",
       "993     (12.401235580444336, 55.66624450683594)\n",
       "994     (12.489557266235352, 55.99484634399414)\n",
       "995    (12.488875389099121, 55.995147705078125)\n",
       "996     (11.949986457824707, 55.04059982299805)\n",
       "997    (11.950119018554688, 55.040748596191406)\n",
       "998     (12.490221977233887, 55.74641036987305)\n",
       "999    (12.494811058044434, 55.613853454589844)\n",
       "Name: geometry, Length: 1000, dtype: object"
      ]
     },
     "execution_count": 27,
     "metadata": {},
     "output_type": "execute_result"
    }
   ],
   "source": [
    "(df01['geometry']) "
   ]
  },
  {
   "cell_type": "code",
   "execution_count": 58,
   "metadata": {},
   "outputs": [],
   "source": [
    "df['geometry'] = df['Latitude'].astype(str) + ', '  + df['Longitude'].astype(str)"
   ]
  },
  {
   "cell_type": "code",
   "execution_count": 95,
   "metadata": {},
   "outputs": [],
   "source": [
    "df['geometry'] = np.asarray(df['geometry'])"
   ]
  },
  {
   "cell_type": "code",
   "execution_count": 99,
   "metadata": {},
   "outputs": [
    {
     "data": {
      "text/plain": [
       "array(['55.6140251159668, 12.494856834411621',\n",
       "       '55.69420623779297, 12.609466552734375',\n",
       "       '55.69427490234375, 12.609014511108398', ...,\n",
       "       '55.65357208251953, 12.538511276245117',\n",
       "       '55.6771125793457, 12.566650390625',\n",
       "       '55.69490432739258, 12.509530067443848'], dtype=object)"
      ]
     },
     "execution_count": 99,
     "metadata": {},
     "output_type": "execute_result"
    }
   ],
   "source": [
    "np.asarray(df['geometry'])"
   ]
  },
  {
   "cell_type": "code",
   "execution_count": 16,
   "metadata": {},
   "outputs": [
    {
     "data": {
      "text/plain": [
       "<matplotlib.axes._subplots.AxesSubplot at 0x3e2368320>"
      ]
     },
     "execution_count": 16,
     "metadata": {},
     "output_type": "execute_result"
    },
    {
     "data": {
      "image/png": "[encoded data removed]",
      "text/plain": [
       "<matplotlib.figure.Figure at 0xf14dda0>"
      ]
     },
     "metadata": {},
     "output_type": "display_data"
    }
   ],
   "source": [
    "gdf.plot()"
   ]
  },
  {
   "cell_type": "code",
   "execution_count": 18,
   "metadata": {},
   "outputs": [
    {
     "data": {
      "text/plain": [
       "0            POINT (12.49485683441162 55.6140251159668)\n",
       "1           POINT (12.60946655273438 55.69420623779297)\n",
       "2            POINT (12.6090145111084 55.69427490234375)\n",
       "3           POINT (12.60817718505859 55.69441604614258)\n",
       "4           POINT (12.49209785461426 55.86859512329102)\n",
       "5           POINT (9.361700057983398 56.44822692871094)\n",
       "6           POINT (12.15607452392578 55.84448623657227)\n",
       "7           POINT (12.47864055633545 55.73735427856445)\n",
       "8           POINT (12.52987480163574 55.72280883789063)\n",
       "9            POINT (12.5675687789917 55.71652984619141)\n",
       "10          POINT (12.56703758239746 55.71657180786133)\n",
       "11          POINT (12.56711483001709 55.71659851074219)\n",
       "12          POINT (11.33940315246582 55.41613388061523)\n",
       "13          POINT (11.33935356140137 55.41611480712891)\n",
       "14          POINT (11.33930206298828 55.41609191894531)\n",
       "15          POINT (12.56632614135742 55.71663665771484)\n",
       "16             POINT (12.56528568267822 55.71630859375)\n",
       "17          POINT (12.56516361236572 55.71647262573242)\n",
       "18          POINT (12.56527137756348 55.71635437011719)\n",
       "19          POINT (12.56532192230225 55.71625900268555)\n",
       "20           POINT (12.56522941589355 55.7164306640625)\n",
       "21          POINT (12.56524753570557 55.71638107299805)\n",
       "22          POINT (12.56508827209473 55.71584701538086)\n",
       "23          POINT (12.42785358428955 55.69528198242188)\n",
       "24          POINT (12.64649391174316 55.63581466674805)\n",
       "25          POINT (12.56591510772705 55.67884826660156)\n",
       "26          POINT (12.42792892456055 55.69520568847656)\n",
       "27           POINT (11.33888721466064 55.4162712097168)\n",
       "28          POINT (11.74734115600586 55.43465042114258)\n",
       "29          POINT (12.56694889068604 55.67546463012695)\n",
       "                               ...                     \n",
       "23952238    POINT (12.56516075134277 55.71646118164063)\n",
       "23952239    POINT (12.56527137756348 55.71634674072266)\n",
       "23952240    POINT (12.56525135040283 55.71642684936523)\n",
       "23952241    POINT (12.56525325775146 55.71638107299805)\n",
       "23952242    POINT (12.56507873535156 55.71584701538086)\n",
       "23952243    POINT (12.47822093963623 55.73735046386719)\n",
       "23952244      POINT (12.427903175354 55.69525146484375)\n",
       "23952245    POINT (12.47148895263672 55.71197509765625)\n",
       "23952246    POINT (12.55885696411133 55.68861389160156)\n",
       "23952247    POINT (12.56623554229736 55.67283630371094)\n",
       "23952248    POINT (12.61659145355225 55.66193008422852)\n",
       "23952249    POINT (12.42792510986328 55.69525527954102)\n",
       "23952250    POINT (12.35830974578857 55.73023223876953)\n",
       "23952251    POINT (11.74862480163574 55.43476486206055)\n",
       "23952252    POINT (11.33889579772949 55.41626358032227)\n",
       "23952253    POINT (11.74899768829346 55.43478775024414)\n",
       "23952254     POINT (12.56649017333984 55.6783447265625)\n",
       "23952255    POINT (12.47849178314209 55.60940933227539)\n",
       "23952256    POINT (12.47840118408203 55.60976791381836)\n",
       "23952257    POINT (12.36145401000977 55.61398696899414)\n",
       "23952258    POINT (12.47848129272461 55.60994338989258)\n",
       "23952259    POINT (12.47901630401611 55.60976409912109)\n",
       "23952260    POINT (12.18753051757813 55.45742797851563)\n",
       "23952261    POINT (12.48735618591309 55.60994720458984)\n",
       "23952262    POINT (12.48795318603516 55.60973739624023)\n",
       "23952263    POINT (11.46651649475098 55.72395706176758)\n",
       "23952264    POINT (11.87491798400879 54.78317642211914)\n",
       "23952265      POINT (12.390456199646 55.68558120727539)\n",
       "23952266    POINT (12.39041328430176 55.68507385253906)\n",
       "23952267    POINT (12.39095211029053 55.68589782714844)\n",
       "Name: Coordinates, Length: 23952268, dtype: object"
      ]
     },
     "execution_count": 18,
     "metadata": {},
     "output_type": "execute_result"
    }
   ],
   "source": [
    "gdf['Coordinates']"
   ]
  },
  {
   "cell_type": "code",
   "execution_count": 76,
   "metadata": {},
   "outputs": [],
   "source": [
    "import itertools\n",
    "import numpy as np\n",
    "from scipy import linalg\n",
    "import matplotlib.pyplot as plt\n",
    "import matplotlib as mpl\n",
    "\n",
    "from sklearn import mixture"
   ]
  },
  {
   "cell_type": "code",
   "execution_count": null,
   "metadata": {},
   "outputs": [],
   "source": [
    "color_iter = itertools.cycle(['navy', 'c', 'cornflowerblue', 'gold',\n",
    "                              'darkorange'])\n",
    "\n",
    "\n",
    "def plot_results(X, Y_, means, covariances, index, title):\n",
    "    splot = plt.subplot(2, 1, 1 + index)\n",
    "    for i, (mean, covar, color) in enumerate(zip(\n",
    "            means, covariances, color_iter)):\n",
    "        v, w = linalg.eigh(covar)\n",
    "        v = 2. * np.sqrt(2.) * np.sqrt(v)\n",
    "        u = w[0] / linalg.norm(w[0])\n",
    "        # as the DP will not use every component it has access to\n",
    "        # unless it needs it, we shouldn't plot the redundant\n",
    "        # components.\n",
    "        if not np.any(Y_ == i):\n",
    "            continue\n",
    "        plt.scatter(X[Y_ == i, 0], X[Y_ == i, 1], .8, color=color)\n",
    "\n",
    "        # Plot an ellipse to show the Gaussian component\n",
    "        angle = np.arctan(u[1] / u[0])\n",
    "        angle = 180. * angle / np.pi  # convert to degrees\n",
    "        ell = mpl.patches.Ellipse(mean, v[0], v[1], 180. + angle, color=color)\n",
    "        ell.set_clip_box(splot.bbox)\n",
    "        ell.set_alpha(0.5)\n",
    "        splot.add_artist(ell)\n",
    "\n",
    "    plt.xlim(-9., 5.)\n",
    "    plt.ylim(-3., 6.)\n",
    "    plt.xticks(())\n",
    "    plt.yticks(())\n",
    "    plt.title(title)\n",
    "\n",
    "\n",
    "# Number of samples per component\n",
    "#n_samples = 500\n",
    "\n",
    "# Generate random sample, two components\n",
    "#np.random.seed(0)\n",
    "#C = np.array([[0., -0.1], [1.7, .4]])\n",
    "#X = np.r_[np.dot(np.random.randn(n_samples, 2), C),\n",
    "#          .7 * np.random.randn(n_samples, 2) + np.array([-6, 3])]\n",
    "\n",
    "# Fit a Gaussian mixture with EM using five components\n",
    "#gmm = mixture.GaussianMixture(n_components=16500, covariance_type='full').fit(X)\n",
    "#plot_results(X, gmm.predict(X), gmm.means_, gmm.covariances_, 0,\n",
    "#             'Gaussian Mixture')\n",
    "\n",
    "# Fit a Dirichlet process Gaussian mixture using five components\n",
    "dpgmm = mixture.BayesianGaussianMixture(n_components=16500,\n",
    "                                        covariance_type='full').fit(X)\n",
    "plot_results(X, dpgmm.predict(X), dpgmm.means_, dpgmm.covariances_, 1,\n",
    "             'Bayesian Gaussian Mixture with a Dirichlet process prior')\n",
    "\n",
    "plt.show()"
   ]
  },
  {
   "cell_type": "code",
   "execution_count": 22,
   "metadata": {},
   "outputs": [
    {
     "name": "stderr",
     "output_type": "stream",
     "text": [
      "C:\\Users\\rwa\\AppData\\Local\\Continuum\\anaconda3\\lib\\site-packages\\pysal\\__init__.py:65: VisibleDeprecationWarning: PySAL's API will be changed on 2018-12-31. The last release made with this API is version 1.14.4. A preview of the next API version is provided in the `pysal` 2.0 prelease candidate. The API changes and a guide on how to change imports is provided at https://migrating.pysal.org\n",
      "  ), VisibleDeprecationWarning)\n"
     ]
    }
   ],
   "source": [
    "%matplotlib inline\n",
    "import seaborn as sns\n",
    "import matplotlib.pyplot as plt\n",
    "import numpy as np\n",
    "import pandas as pd\n",
    "import pysal as ps\n",
    "import geopandas as gpd\n",
    "from sklearn import cluster\n",
    "from sklearn.preprocessing import scale\n",
    "\n",
    "sns.set(style=\"whitegrid\")"
   ]
  },
  {
   "cell_type": "code",
   "execution_count": 5,
   "metadata": {},
   "outputs": [
    {
     "name": "stderr",
     "output_type": "stream",
     "text": [
      "C:\\Users\\rwa\\AppData\\Local\\Continuum\\anaconda3\\lib\\site-packages\\geopy\\geocoders\\googlev3.py:122: UserWarning: Since July 2018 Google requires each request to have an API key. Pass a valid `api_key` to GoogleV3 geocoder to hide this warning. See https://developers.google.com/maps/documentation/geocoding/usage-and-billing\n",
      "  UserWarning\n"
     ]
    }
   ],
   "source": [
    "from geopy.geocoders import Nominatim\n",
    "from geopy.geocoders import GoogleV3\n",
    "google_maps = GoogleV3(client_id = 'gme-movia', secret_key = 'S_Xne8U96iWdKrOvVZi-iswdakE=')\n",
    "#import geopy.geocoders "
   ]
  },
  {
   "cell_type": "code",
   "execution_count": 7,
   "metadata": {},
   "outputs": [],
   "source": [
    "%matplotlib inline\n",
    "import os\n",
    "import pandas_td as td"
   ]
  },
  {
   "cell_type": "code",
   "execution_count": 73,
   "metadata": {},
   "outputs": [
    {
     "data": {
      "text/plain": [
       "NearestNeighbors(algorithm='auto', leaf_size=30, metric='minkowski',\n",
       "         metric_params=None, n_jobs=1, n_neighbors=5, p=2, radius=1)"
      ]
     },
     "execution_count": 73,
     "metadata": {},
     "output_type": "execute_result"
    }
   ],
   "source": [
    "from sklearn.neighbors import NearestNeighbors\n",
    "neigh = NearestNeighbors(radius=1)\n",
    "neigh.fit(df.drop(['geometry', 'ReceivedDateTime', 'Speed','VehicleId'], axis = 1).dropna())  "
   ]
  },
  {
   "cell_type": "code",
   "execution_count": 75,
   "metadata": {},
   "outputs": [
    {
     "ename": "MemoryError",
     "evalue": "",
     "output_type": "error",
     "traceback": [
      "\u001b[1;31m----------------------------------------------------------------\u001b[0m",
      "\u001b[1;31mMemoryError\u001b[0m                    Traceback (most recent call last)",
      "\u001b[1;32m<ipython-input-75-6e1f14fbb708>\u001b[0m in \u001b[0;36m<module>\u001b[1;34m()\u001b[0m\n\u001b[1;32m----> 1\u001b[1;33m \u001b[0mA\u001b[0m \u001b[1;33m=\u001b[0m \u001b[0mneigh\u001b[0m\u001b[1;33m.\u001b[0m\u001b[0mradius_neighbors_graph\u001b[0m\u001b[1;33m(\u001b[0m\u001b[0mdf\u001b[0m\u001b[1;33m.\u001b[0m\u001b[0mdrop\u001b[0m\u001b[1;33m(\u001b[0m\u001b[1;33m[\u001b[0m\u001b[1;34m'geometry'\u001b[0m\u001b[1;33m,\u001b[0m \u001b[1;34m'ReceivedDateTime'\u001b[0m\u001b[1;33m,\u001b[0m \u001b[1;34m'Speed'\u001b[0m\u001b[1;33m,\u001b[0m\u001b[1;34m'VehicleId'\u001b[0m\u001b[1;33m]\u001b[0m\u001b[1;33m,\u001b[0m \u001b[0maxis\u001b[0m \u001b[1;33m=\u001b[0m \u001b[1;36m1\u001b[0m\u001b[1;33m)\u001b[0m\u001b[1;33m.\u001b[0m\u001b[0mdropna\u001b[0m\u001b[1;33m(\u001b[0m\u001b[1;33m)\u001b[0m\u001b[1;33m)\u001b[0m\u001b[1;33m\u001b[0m\u001b[0m\n\u001b[0m\u001b[0;32m      2\u001b[0m \u001b[0mA\u001b[0m\u001b[1;33m.\u001b[0m\u001b[0mtoarray\u001b[0m\u001b[1;33m(\u001b[0m\u001b[1;33m)\u001b[0m\u001b[1;33m\u001b[0m\u001b[0m\n",
      "\u001b[1;32m~\\AppData\\Local\\Continuum\\anaconda3\\lib\\site-packages\\sklearn\\neighbors\\base.py\u001b[0m in \u001b[0;36mradius_neighbors_graph\u001b[1;34m(self, X, radius, mode)\u001b[0m\n\u001b[0;32m    705\u001b[0m         \u001b[1;32mif\u001b[0m \u001b[0mmode\u001b[0m \u001b[1;33m==\u001b[0m \u001b[1;34m'connectivity'\u001b[0m\u001b[1;33m:\u001b[0m\u001b[1;33m\u001b[0m\u001b[0m\n\u001b[0;32m    706\u001b[0m             A_ind = self.radius_neighbors(X, radius,\n\u001b[1;32m--> 707\u001b[1;33m                                           return_distance=False)\n\u001b[0m\u001b[0;32m    708\u001b[0m             \u001b[0mA_data\u001b[0m \u001b[1;33m=\u001b[0m \u001b[1;32mNone\u001b[0m\u001b[1;33m\u001b[0m\u001b[0m\n\u001b[0;32m    709\u001b[0m         \u001b[1;32melif\u001b[0m \u001b[0mmode\u001b[0m \u001b[1;33m==\u001b[0m \u001b[1;34m'distance'\u001b[0m\u001b[1;33m:\u001b[0m\u001b[1;33m\u001b[0m\u001b[0m\n",
      "\u001b[1;32m~\\AppData\\Local\\Continuum\\anaconda3\\lib\\site-packages\\sklearn\\neighbors\\base.py\u001b[0m in \u001b[0;36mradius_neighbors\u001b[1;34m(self, X, radius, return_distance)\u001b[0m\n\u001b[0;32m    623\u001b[0m                     \"or set algorithm='brute'\" % self._fit_method)\n\u001b[0;32m    624\u001b[0m             results = self._tree.query_radius(X, radius,\n\u001b[1;32m--> 625\u001b[1;33m                                               return_distance=return_distance)\n\u001b[0m\u001b[0;32m    626\u001b[0m             \u001b[1;32mif\u001b[0m \u001b[0mreturn_distance\u001b[0m\u001b[1;33m:\u001b[0m\u001b[1;33m\u001b[0m\u001b[0m\n\u001b[0;32m    627\u001b[0m                 \u001b[0mresults\u001b[0m \u001b[1;33m=\u001b[0m \u001b[0mresults\u001b[0m\u001b[1;33m[\u001b[0m\u001b[1;33m:\u001b[0m\u001b[1;33m:\u001b[0m\u001b[1;33m-\u001b[0m\u001b[1;36m1\u001b[0m\u001b[1;33m]\u001b[0m\u001b[1;33m\u001b[0m\u001b[0m\n",
      "\u001b[1;32msklearn\\neighbors\\binary_tree.pxi\u001b[0m in \u001b[0;36msklearn.neighbors.kd_tree.BinaryTree.query_radius\u001b[1;34m()\u001b[0m\n",
      "\u001b[1;31mMemoryError\u001b[0m: "
     ]
    }
   ],
   "source": [
    "A = neigh.radius_neighbors_graph(df.drop(['geometry', 'ReceivedDateTime', 'Speed','VehicleId'], axis = 1).dropna())\n",
    "A.toarray()"
   ]
  },
  {
   "cell_type": "code",
   "execution_count": 29,
   "metadata": {},
   "outputs": [
    {
     "data": {
      "text/plain": [
       "array([[ 0.,  3.,  1.],\n",
       "       [ 3.,  0.,  2.],\n",
       "       [ 1.,  2.,  0.]])"
      ]
     },
     "execution_count": 29,
     "metadata": {},
     "output_type": "execute_result"
    }
   ],
   "source": [
    "X = [[0], [3], [1]]\n",
    "from sklearn.neighbors import NearestNeighbors\n",
    "neigh = NearestNeighbors(radius=3.5)\n",
    "neigh.fit(X) \n",
    "\n",
    "A = neigh.radius_neighbors_graph(X, mode= 'distance')\n",
    "A.toarray()"
   ]
  },
  {
   "cell_type": "code",
   "execution_count": 40,
   "metadata": {},
   "outputs": [
    {
     "name": "stdout",
     "output_type": "stream",
     "text": [
      "[ 1.73205081  1.5         0.5       ]\n",
      "[0 1 2]\n"
     ]
    },
    {
     "data": {
      "text/plain": [
       "[[0.0, 0.0, 0.0], [0.0, 0.5, 0.0], [1.0, 1.0, 0.5]]"
      ]
     },
     "execution_count": 40,
     "metadata": {},
     "output_type": "execute_result"
    }
   ],
   "source": [
    "import numpy as np\n",
    "samples = [[0., 0., 0.], [0., .5, 0.], [1., 1., .5]]\n",
    "from sklearn.neighbors import NearestNeighbors\n",
    "neigh = NearestNeighbors(radius=3.6)\n",
    "neigh.fit(samples) \n",
    "\n",
    "rng = neigh.radius_neighbors([[1., 1., 1.]])\n",
    "print(np.asarray(rng[0][0])) \n",
    "\n",
    "print(np.asarray(rng[1][0])) \n",
    "rng\n",
    "samples"
   ]
  }
 ],
 "metadata": {
  "kernelspec": {
   "display_name": "Python 3",
   "language": "python",
   "name": "python3"
  },
  "language_info": {
   "codemirror_mode": {
    "name": "ipython",
    "version": 3
   },
   "file_extension": ".py",
   "mimetype": "text/x-python",
   "name": "python",
   "nbconvert_exporter": "python",
   "pygments_lexer": "ipython3",
   "version": "3.5.4"
  }
 },
 "nbformat": 4,
 "nbformat_minor": 2
}
